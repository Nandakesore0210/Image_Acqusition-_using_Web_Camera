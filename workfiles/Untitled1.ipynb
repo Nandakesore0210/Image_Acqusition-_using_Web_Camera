{
 "cells": [
  {
   "cell_type": "code",
   "execution_count": 2,
   "id": "9687dc4e-d22f-4db0-a6fc-ca5e6934df5b",
   "metadata": {},
   "outputs": [],
   "source": [
    "import cv2\n",
    "viedoCaptureObject=cv2.VideoCapture(0)\n",
    "\n",
    "ret,frame=viedoCaptureObject.read()\n",
    "cv2.imwrite(\"bald_cat.jpg\",frame)\n",
    "\n",
    "viedoCaptureObject.release()\n",
    "cv2.destroyAllWindows()"
   ]
  },
  {
   "cell_type": "code",
   "execution_count": null,
   "id": "d92ba5db-c66a-4185-b3bf-fe1d1bd64a3d",
   "metadata": {},
   "outputs": [],
   "source": []
  }
 ],
 "metadata": {
  "kernelspec": {
   "display_name": "Python 3 (ipykernel)",
   "language": "python",
   "name": "python3"
  },
  "language_info": {
   "codemirror_mode": {
    "name": "ipython",
    "version": 3
   },
   "file_extension": ".py",
   "mimetype": "text/x-python",
   "name": "python",
   "nbconvert_exporter": "python",
   "pygments_lexer": "ipython3",
   "version": "3.11.11"
  }
 },
 "nbformat": 4,
 "nbformat_minor": 5
}
